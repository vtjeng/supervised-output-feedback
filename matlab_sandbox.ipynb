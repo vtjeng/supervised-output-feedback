{
 "cells": [
  {
   "cell_type": "code",
   "execution_count": 2,
   "metadata": {
    "collapsed": false
   },
   "outputs": [
    {
     "name": "stderr",
     "output_type": "stream",
     "text": [
      "too many sensors.\n"
     ]
    }
   ],
   "source": [
    "\n",
    "assert(false, 'too many sensors.')"
   ]
  },
  {
   "cell_type": "code",
   "execution_count": 13,
   "metadata": {
    "collapsed": false
   },
   "outputs": [
    {
     "name": "stdout",
     "output_type": "stream",
     "text": [
      "rrb =\n",
      "\n",
      "  Columns 1 through 7\n",
      "\n",
      "   -1.5708   -1.4054   -1.2401   -1.0748   -0.9094   -0.7441   -0.5787\n",
      "\n",
      "  Columns 8 through 14\n",
      "\n",
      "   -0.4134   -0.2480   -0.0827    0.0827    0.2480    0.4134    0.5787\n",
      "\n",
      "  Columns 15 through 20\n",
      "\n",
      "    0.7441    0.9094    1.0748    1.2401    1.4054    1.5708\n"
     ]
    }
   ],
   "source": [
    "rrb = linspace(-pi/2, pi/2, 20)"
   ]
  },
  {
   "cell_type": "code",
   "execution_count": 6,
   "metadata": {
    "collapsed": false
   },
   "outputs": [
    {
     "name": "stdout",
     "output_type": "stream",
     "text": [
      "s =\n",
      "\n",
      "    20\n"
     ]
    }
   ],
   "source": [
    "s = size(rangefinder_relative_bearings, 2)"
   ]
  },
  {
   "cell_type": "code",
   "execution_count": 11,
   "metadata": {
    "collapsed": false
   },
   "outputs": [
    {
     "name": "stdout",
     "output_type": "stream",
     "text": [
      "ans =\n",
      "\n",
      "Expected 20 sensors 10\n"
     ]
    }
   ],
   "source": [
    "sprintf('Expected %d sensors %d', 20, 10)"
   ]
  },
  {
   "cell_type": "code",
   "execution_count": 15,
   "metadata": {
    "collapsed": false
   },
   "outputs": [
    {
     "name": "stdout",
     "output_type": "stream",
     "text": [
      "ans =\n",
      "\n",
      "  Columns 1 through 7\n",
      "\n",
      "    2.4674    1.9753    1.5379    1.1551    0.8270    0.5536    0.3349\n",
      "\n",
      "  Columns 8 through 14\n",
      "\n",
      "    0.1709    0.0615    0.0068    0.0068    0.0615    0.1709    0.3349\n",
      "\n",
      "  Columns 15 through 20\n",
      "\n",
      "    0.5536    0.8270    1.1551    1.5379    1.9753    2.4674\n"
     ]
    }
   ],
   "source": [
    "rrb.^2"
   ]
  },
  {
   "cell_type": "code",
   "execution_count": null,
   "metadata": {
    "collapsed": true
   },
   "outputs": [],
   "source": []
  }
 ],
 "metadata": {
  "kernelspec": {
   "display_name": "Matlab",
   "language": "matlab",
   "name": "matlab"
  },
  "language_info": {
   "codemirror_mode": "octave",
   "file_extension": ".m",
   "help_links": [
    {
     "text": "MetaKernel Magics",
     "url": "https://github.com/calysto/metakernel/blob/master/metakernel/magics/README.md"
    }
   ],
   "mimetype": "text/x-matlab",
   "name": "matlab",
   "version": "0.8.0"
  }
 },
 "nbformat": 4,
 "nbformat_minor": 0
}
